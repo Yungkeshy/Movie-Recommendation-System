{
 "cells": [
  {
   "cell_type": "code",
   "execution_count": 1,
   "id": "240da6b7-f75f-4b50-8b66-8ce657860d56",
   "metadata": {},
   "outputs": [],
   "source": [
    "#Import Modules\n",
    "import pandas as pd\n",
    "import streamlit as st\n",
    "from sklearn.neighbors import NearestNeighbors\n",
    "from sklearn.feature_extraction.text import TfidfVectorizer\n",
    "from sklearn.metrics.pairwise import linear_kernel"
   ]
  },
  {
   "cell_type": "code",
   "execution_count": 2,
   "id": "076de179-d7ce-4655-ad3f-3d4b62abec83",
   "metadata": {},
   "outputs": [],
   "source": [
    "# Load the MovieLens dataset\n",
    "movies = pd.read_csv(r'C:\\Users\\OWOLABI\\Downloads\\MERISKILL\\MERISKILL\\BHARAT INTERN TASKS\\Movie Recommendation System\\movies1.csv')\n",
    "ratings = pd.read_csv(r'C:\\Users\\OWOLABI\\Downloads\\MERISKILL\\MERISKILL\\BHARAT INTERN TASKS\\Movie Recommendation System\\ratings1.csv')"
   ]
  },
  {
   "cell_type": "code",
   "execution_count": 3,
   "id": "5814f722-f2e1-4d36-b583-7743944039b4",
   "metadata": {},
   "outputs": [],
   "source": [
    "# Pivot the ratings DataFrame to create a user-item matrix\n",
    "user_item_matrix = ratings.pivot(index='userId', columns='movieId', values='rating').fillna(0)\n",
    "\n",
    "# Fit Nearest Neighbors model for collaborative filtering\n",
    "model_knn = NearestNeighbors(metric='cosine', algorithm='brute', n_neighbors=10)\n",
    "model_knn.fit(user_item_matrix.T)\n",
    "\n",
    "# TF-IDF Vectorizer for content-based recommendations\n",
    "tfidf_vectorizer = TfidfVectorizer(stop_words='english')\n",
    "tfidf_matrix = tfidf_vectorizer.fit_transform(movies['genres'])"
   ]
  },
  {
   "cell_type": "code",
   "execution_count": 4,
   "id": "07d6470a-d614-4ac5-a83b-8f1dd3177644",
   "metadata": {},
   "outputs": [],
   "source": [
    "# Function to get collaborative filtering movie recommendations\n",
    "def get_cf_movie_recommendations(movie_id, num_recommendations=5):\n",
    "    distances, indices = model_knn.kneighbors(user_item_matrix.T.iloc[movie_id].values.reshape(1, -1),\n",
    "                                              n_neighbors=num_recommendations + 1)\n",
    "\n",
    "    # Exclude the queried movie itself (closest neighbor)\n",
    "    recommendations = [(movies.iloc[idx]['title'], distances[0][i]) for i, idx in enumerate(indices[0][1:])]\n",
    "\n",
    "    return recommendations"
   ]
  },
  {
   "cell_type": "code",
   "execution_count": 5,
   "id": "9656d8ff-48bb-46d5-8632-3560932bcae2",
   "metadata": {},
   "outputs": [],
   "source": [
    "# Function to get content-based movie recommendations\n",
    "def get_content_based_recommendations(movie_title, num_recommendations=5):\n",
    "    # Find the movie index\n",
    "    movie_index = movies[movies['title'].str.contains(movie_title, case=False)].index[0]\n",
    "\n",
    "    # Calculate cosine similarity between the queried movie and all others\n",
    "    cosine_similarities = linear_kernel(tfidf_matrix[movie_index], tfidf_matrix).flatten()\n",
    "\n",
    "    # Get indices of movies with highest similarity scores\n",
    "    content_based_recommendations = [(movies.iloc[idx]['title'], cosine_similarities[idx]) for idx in\n",
    "                                     cosine_similarities.argsort()[:-num_recommendations - 1:-1]]\n",
    "\n",
    "    return content_based_recommendations"
   ]
  },
  {
   "cell_type": "code",
   "execution_count": 6,
   "id": "5cb4e1b2-233f-4f08-91ed-986543530214",
   "metadata": {},
   "outputs": [
    {
     "name": "stderr",
     "output_type": "stream",
     "text": [
      "2024-01-09 01:52:15.530 \n",
      "  \u001b[33m\u001b[1mWarning:\u001b[0m to view this Streamlit app on a browser, run it with the following\n",
      "  command:\n",
      "\n",
      "    streamlit run C:\\Python310\\lib\\site-packages\\ipykernel_launcher.py [ARGUMENTS]\n"
     ]
    }
   ],
   "source": [
    "# Streamlit App\n",
    "st.image(\"https://c4.wallpaperflare.com/wallpaper/862/449/162/jack-reacher-star-wars-interstellar-movie-john-wick-wallpaper-preview.jpg\", use_column_width=True)\n",
    "st.title(\"Movie Recommendation App\")\n",
    "\n",
    "# Sidebar for user input\n",
    "searched_movie_title = st.sidebar.text_input(\"Type the title of a movie:\")\n",
    "\n",
    "# Display collaborative filtering recommendations\n",
    "if searched_movie_title:\n",
    "    # Find the closest movie based on the searched title\n",
    "    queried_movie_id = movies[movies['title'].str.contains(searched_movie_title, case=False)].index[0]\n",
    "\n",
    "    # Get collaborative filtering recommendations for the queried movie\n",
    "    cf_recommendations = get_cf_movie_recommendations(queried_movie_id)\n",
    "\n",
    "    st.subheader(f\"Collaborative Filtering Recommendations for '{searched_movie_title}':\")\n",
    "    for movie_title, similarity_score in cf_recommendations:\n",
    "        st.write(f\"{movie_title}: Similarity Score - {1 - similarity_score:.4f}\")\n",
    "\n",
    "# Display content-based recommendations\n",
    "if searched_movie_title:\n",
    "    # Get content-based recommendations for the queried movie title\n",
    "    content_based_recommendations = get_content_based_recommendations(searched_movie_title)\n",
    "\n",
    "    st.subheader(f\"Content-Based Recommendations for '{searched_movie_title}':\")\n",
    "    for movie_title, similarity_score in content_based_recommendations:\n",
    "        st.write(f\"{movie_title}: Similarity Score - {similarity_score:.4f}\")"
   ]
  },
  {
   "cell_type": "code",
   "execution_count": null,
   "id": "4368c79f-f1d9-4edb-9178-ad31caf01ea2",
   "metadata": {},
   "outputs": [],
   "source": []
  }
 ],
 "metadata": {
  "kernelspec": {
   "display_name": "Python 3 (ipykernel)",
   "language": "python",
   "name": "python3"
  },
  "language_info": {
   "codemirror_mode": {
    "name": "ipython",
    "version": 3
   },
   "file_extension": ".py",
   "mimetype": "text/x-python",
   "name": "python",
   "nbconvert_exporter": "python",
   "pygments_lexer": "ipython3",
   "version": "3.10.4"
  }
 },
 "nbformat": 4,
 "nbformat_minor": 5
}
